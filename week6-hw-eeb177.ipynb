{
 "cells": [
  {
   "cell_type": "markdown",
   "metadata": {},
   "source": [
    "## Week 6 Homework!!!\n",
    "\n",
    "### Part 1: Code Academy Review"
   ]
  },
  {
   "cell_type": "markdown",
   "metadata": {},
   "source": [
    "#### Python Syntax\n",
    "![badge1](week6_hw_files/python_syntax.png)"
   ]
  },
  {
   "cell_type": "markdown",
   "metadata": {},
   "source": [
    "#### String and console output\n",
    "![badge2](week6_hw_files/strings_console.png)"
   ]
  },
  {
   "cell_type": "markdown",
   "metadata": {},
   "source": [
    "#### Conditionals and Control flow\n",
    "\n",
    "![badge3](week6_hw_files/conditionals_control_flow.png)"
   ]
  },
  {
   "cell_type": "markdown",
   "metadata": {},
   "source": [
    "#### Functions\n",
    "\n",
    "![badge4](week6_hw_files/functions.png)"
   ]
  },
  {
   "cell_type": "markdown",
   "metadata": {},
   "source": [
    "#### Python lists and dictionaries\n",
    "![badge5](week6_hw_files/python_lists_dictionaries.png)"
   ]
  },
  {
   "cell_type": "markdown",
   "metadata": {},
   "source": [
    "#### Lists and Functions\n",
    "\n",
    "![badge6](week6_hw_files/lists_and_functions.png)"
   ]
  },
  {
   "cell_type": "markdown",
   "metadata": {},
   "source": [
    "#### Loops\n",
    "![badge7](week6_hw_files/loops.png)"
   ]
  },
  {
   "cell_type": "markdown",
   "metadata": {},
   "source": [
    "#### Practice makes Perfect\n",
    "![badge8](week6_hw_files/Practice_makes_perfect.png)"
   ]
  },
  {
   "cell_type": "markdown",
   "metadata": {},
   "source": [
    "### Part 2: Python for Biologists\n",
    "\n",
    "#### DNA Translation"
   ]
  },
  {
   "cell_type": "code",
   "execution_count": 11,
   "metadata": {
    "collapsed": true
   },
   "outputs": [],
   "source": [
    "gencode = {\n",
    "    'ATA':'I', 'ATC':'I', 'ATT':'I', 'ATG':'M',\n",
    "    'ACA':'T', 'ACC':'T', 'ACG':'T', 'ACT':'T',\n",
    "    'AAC':'N', 'AAT':'N', 'AAA':'K', 'AAG':'K',\n",
    "    'AGC':'S', 'AGT':'S', 'AGA':'R', 'AGG':'R',\n",
    "    'CTA':'L', 'CTC':'L', 'CTG':'L', 'CTT':'L',\n",
    "    'CCA':'P', 'CCC':'P', 'CCG':'P', 'CCT':'P',\n",
    "    'CAC':'H', 'CAT':'H', 'CAA':'Q', 'CAG':'Q',\n",
    "    'CGA':'R', 'CGC':'R', 'CGG':'R', 'CGT':'R',\n",
    "    'GTA':'V', 'GTC':'V', 'GTG':'V', 'GTT':'V',\n",
    "    'GCA':'A', 'GCC':'A', 'GCG':'A', 'GCT':'A',\n",
    "    'GAC':'D', 'GAT':'D', 'GAA':'E', 'GAG':'E',\n",
    "    'GGA':'G', 'GGC':'G', 'GGG':'G', 'GGT':'G',\n",
    "    'TCA':'S', 'TCC':'S', 'TCG':'S', 'TCT':'S',\n",
    "    'TTC':'F', 'TTT':'F', 'TTA':'L', 'TTG':'L',\n",
    "    'TAC':'Y', 'TAT':'Y', 'TAA':'_', 'TAG':'_',\n",
    "    'TGC':'C', 'TGT':'C', 'TGA':'_', 'TGG':'W'}\n",
    "\n",
    "def translate_dna(dna):\n",
    "    last_codon_start = len(dna) - 2\n",
    "    protein = \"\" # create a variable, in where we will be adding our amino acid\n",
    "    for start in range(0,last_codon_start,3):\n",
    "        codon = dna[start:start+3]# splits the DNA into codons\n",
    "        aa = gencode.get(codon, 'X')# translates the codon into amino acid\n",
    "        protein = protein + aa #adding the single character each time into the loop at the back\n",
    "    return protein\n"
   ]
  },
  {
   "cell_type": "code",
   "execution_count": 13,
   "metadata": {
    "collapsed": false
   },
   "outputs": [
    {
     "name": "stdout",
     "output_type": "stream",
     "text": [
      "MFG\n"
     ]
    }
   ],
   "source": [
    "print(translate_dna(\"ATGTTCGGT\"))\n"
   ]
  },
  {
   "cell_type": "markdown",
   "metadata": {},
   "source": [
    "Pseudocode:\n",
    "\n",
    "    # create a function called tranclate_dna with dna as its argument\n",
    "    \n",
    "    # we calculate the start position of the last valid codon and store it in a variable\n",
    "    \n",
    "    # create a variable, in where we will be adding our amino acid\n",
    "    \n",
    "    # use for loop to produce a loop\n",
    "    \n",
    "    # splits the DNA into codons\n",
    "    \n",
    "    # translates the codon into amino acid\n",
    "    \n",
    "    # adding the single character each time into the loop at the back\n",
    "    \n",
    "    # return the varibale to protein"
   ]
  },
  {
   "cell_type": "markdown",
   "metadata": {},
   "source": [
    "### Part 3: Allesina and Wilmes\n",
    "\n",
    "#### 1. Write the simulation program described in section 4.3.2 starting on page 93"
   ]
  },
  {
   "cell_type": "code",
   "execution_count": 14,
   "metadata": {
    "collapsed": true
   },
   "outputs": [],
   "source": [
    "import scipy # for random numbers\n",
    "\n",
    "def build_population(N, p):\n",
    "    \"\"\"The population consists of N individuals.Each individual has two chromosomes, containing allele \"A\" or \"a\", with probability p and 1-p,respectively.\n",
    "    The population is a list of tuples.\n",
    "    \"\"\"\n",
    "    population = []\n",
    "    for i in range(N):\n",
    "        allele1 = \"A\"\n",
    "        if scipy.random.rand() > p:\n",
    "            allele1 = \"a\"\n",
    "            allele2 = \"A\"\n",
    "        elif scipy.random.rand() > p:\n",
    "            allele2 = \"a\"\n",
    "        population.append((allele1, allele2))\n",
    "    return population"
   ]
  },
  {
   "cell_type": "code",
   "execution_count": 15,
   "metadata": {
    "collapsed": false
   },
   "outputs": [
    {
     "data": {
      "text/plain": [
       "[('a', 'A'),\n",
       " ('A', 'A'),\n",
       " ('A', 'a'),\n",
       " ('a', 'A'),\n",
       " ('a', 'A'),\n",
       " ('a', 'A'),\n",
       " ('A', 'A'),\n",
       " ('A', 'a'),\n",
       " ('A', 'a'),\n",
       " ('A', 'a')]"
      ]
     },
     "execution_count": 15,
     "metadata": {},
     "output_type": "execute_result"
    }
   ],
   "source": [
    "build_population(10, 0.7)"
   ]
  },
  {
   "cell_type": "code",
   "execution_count": 22,
   "metadata": {
    "collapsed": false
   },
   "outputs": [
    {
     "ename": "SyntaxError",
     "evalue": "'return' outside function (<ipython-input-22-031fa3393359>, line 9)",
     "output_type": "error",
     "traceback": [
      "\u001b[0;36m  File \u001b[0;32m\"<ipython-input-22-031fa3393359>\"\u001b[0;36m, line \u001b[0;32m9\u001b[0m\n\u001b[0;31m    return({'AA': AA,'aa': aa,'Aa': Aa,'aA': aA})\u001b[0m\n\u001b[0m                                                 ^\u001b[0m\n\u001b[0;31mSyntaxError\u001b[0m\u001b[0;31m:\u001b[0m 'return' outside function\n"
     ]
    }
   ],
   "source": [
    "def compute_frequencies(population):\n",
    "    \"\"\" Count the genotypes.\n",
    "    Returns a dictionary with counts for each genotype.\n",
    "    \"\"\"\n",
    "    AA = population.count(('A', 'A'))\n",
    "    Aa = population.count(('A', 'a'))\n",
    "    aA = population.count(('a', 'A'))\n",
    "    aa = population.count(('a', 'a'))\n",
    "return({'AA': AA,'aa': aa,'Aa': Aa,'aA': aA})"
   ]
  },
  {
   "cell_type": "markdown",
   "metadata": {},
   "source": [
    "#### Part 1 of question 4.9.1 \n",
    "Write a function that takes as input the desired Taxon , and returns the mean value of r .\n",
    "\n",
    "First of all, the file is broken, it has tabs instead of commas. In order to convert it, I used:\n",
    "\n",
    "sed 's/\\t/,/g' filename > newfilename"
   ]
  },
  {
   "cell_type": "code",
   "execution_count": 47,
   "metadata": {
    "collapsed": false
   },
   "outputs": [],
   "source": [
    "def makeBirdDict(filename):\n",
    "    # this function opens the data file from nature-birds and extracts the species and families as a dictionary\n",
    "    BirdDict= {}\n",
    "    fobj= open(filename, \"r\",encoding = \"ISO-8859.15\") # open the file\n",
    "    all_records = fobj.readlines()[1:] # read the file (list)\n",
    "    for line in all_records:\n",
    "        record_elements = line.split(\"\\t\") # split lines on comma (this produces another list)\n",
    "        species = record_elements[0]\n",
    "        family = record_elements[0]\n",
    "        BirdDict[species] = family # stick species and family into birdDict\n",
    "\n",
    "    return BirdDict"
   ]
  },
  {
   "cell_type": "code",
   "execution_count": 48,
   "metadata": {
    "collapsed": false
   },
   "outputs": [
    {
     "data": {
      "text/plain": [
       "{'\\n': '\\n',\n",
       " 'Acanthurus glaucoparieus': 'Acanthurus glaucoparieus',\n",
       " 'Acanthurus leucosternon': 'Acanthurus leucosternon',\n",
       " 'Acanthurus nigrofuscus': 'Acanthurus nigrofuscus',\n",
       " 'Agalychnis callidryas': 'Agalychnis callidryas',\n",
       " 'Agalychnis moreletii': 'Agalychnis moreletii',\n",
       " 'Agelena limbata': 'Agelena limbata',\n",
       " 'Alca torda': 'Alca torda',\n",
       " 'Alpheus heterochaelis': 'Alpheus heterochaelis',\n",
       " 'Alytes cisternasii': 'Alytes cisternasii',\n",
       " 'Alytes obstetricans': 'Alytes obstetricans',\n",
       " 'Anous stolidus': 'Anous stolidus',\n",
       " 'Archocentrus nigrofasciatus': 'Archocentrus nigrofasciatus',\n",
       " 'Arianta arbustorum': 'Arianta arbustorum',\n",
       " 'Artemia salina': 'Artemia salina',\n",
       " 'Asellus aquaticus': 'Asellus aquaticus',\n",
       " 'Brachinus lateralis': 'Brachinus lateralis',\n",
       " 'Branta bernicla': 'Branta bernicla',\n",
       " 'Bufo americanus': 'Bufo americanus',\n",
       " 'Bufo boreas': 'Bufo boreas',\n",
       " 'Bufo bufo': 'Bufo bufo',\n",
       " 'Bufo calamita': 'Bufo calamita',\n",
       " 'Bufo cognatus': 'Bufo cognatus',\n",
       " 'Bufo periglenes': 'Bufo periglenes',\n",
       " 'Bufo quercicus': 'Bufo quercicus',\n",
       " 'Bufo stejnegeri ': 'Bufo stejnegeri ',\n",
       " 'Bufo terrestris': 'Bufo terrestris',\n",
       " 'Bufo typhonius': 'Bufo typhonius',\n",
       " 'Bufo valliceps': 'Bufo valliceps',\n",
       " 'Bufo woodhousei': 'Bufo woodhousei',\n",
       " 'Bulla gouldiana': 'Bulla gouldiana',\n",
       " 'Caecidotea intermedius': 'Caecidotea intermedius',\n",
       " 'Carduelis tristis': 'Carduelis tristis',\n",
       " 'Catharacta skua': 'Catharacta skua',\n",
       " 'Cepphus grylle': 'Cepphus grylle',\n",
       " 'Chaetodon lunulatus': 'Chaetodon lunulatus',\n",
       " 'Chaetodon melannotus': 'Chaetodon melannotus',\n",
       " 'Chamaeleo chamaeleon': 'Chamaeleo chamaeleon',\n",
       " 'Charadrius dubius': 'Charadrius dubius',\n",
       " 'Chauliognathus pennsylvanicus': 'Chauliognathus pennsylvanicus',\n",
       " 'Chionoecetes opilio': 'Chionoecetes opilio',\n",
       " 'Chlidonias hybrida': 'Chlidonias hybrida',\n",
       " 'Chrysolina aurichalcea': 'Chrysolina aurichalcea',\n",
       " 'Cicindela marutha': 'Cicindela marutha',\n",
       " 'Claeoderes bivittata': 'Claeoderes bivittata',\n",
       " 'Colias eurytheme': 'Colias eurytheme',\n",
       " 'Columba livia': 'Columba livia',\n",
       " 'Coracias garrulus': 'Coracias garrulus',\n",
       " 'Cyanistes caeruleus': 'Cyanistes caeruleus',\n",
       " 'Diaprepes abbreviatus': 'Diaprepes abbreviatus',\n",
       " 'Diderogammarus fasciatus': 'Diderogammarus fasciatus',\n",
       " 'Dikerogammarus villosus': 'Dikerogammarus villosus',\n",
       " 'Drosophila melanogaster': 'Drosophila melanogaster',\n",
       " 'Drosophila pseudoobscura': 'Drosophila pseudoobscura',\n",
       " 'Dryomyza anilis': 'Dryomyza anilis',\n",
       " 'Echinogammarus marinus': 'Echinogammarus marinus',\n",
       " 'Eogammarus oclairi': 'Eogammarus oclairi',\n",
       " 'Epicauta ochrea': 'Epicauta ochrea',\n",
       " 'Epicauta pennsylvanica': 'Epicauta pennsylvanica',\n",
       " 'Eretmodus cyanostictus': 'Eretmodus cyanostictus',\n",
       " 'Esenia fetida': 'Esenia fetida',\n",
       " 'Eumomota superciliosa': 'Eumomota superciliosa',\n",
       " 'Eurema hecabe': 'Eurema hecabe',\n",
       " 'Falco columbarius': 'Falco columbarius',\n",
       " 'Falco sparverius': 'Falco sparverius',\n",
       " 'Ficedula hypoleuca': 'Ficedula hypoleuca',\n",
       " 'Gammarus Pulex': 'Gammarus Pulex',\n",
       " 'Gammarus aequicauda': 'Gammarus aequicauda',\n",
       " 'Gammarus duebeni': 'Gammarus duebeni',\n",
       " 'Gammarus insensibilis': 'Gammarus insensibilis',\n",
       " 'Gammarus leopoliensis': 'Gammarus leopoliensis',\n",
       " 'Gammarus locusta': 'Gammarus locusta',\n",
       " 'Gammarus pulex': 'Gammarus pulex',\n",
       " 'Gammarus pulex ': 'Gammarus pulex ',\n",
       " 'Gammarus zaddachi': 'Gammarus zaddachi',\n",
       " 'Gasterosteus aculeatus': 'Gasterosteus aculeatus',\n",
       " 'Geospiza fortis': 'Geospiza fortis',\n",
       " 'Geospiza scandens': 'Geospiza scandens',\n",
       " 'Gerris buenoi': 'Gerris buenoi',\n",
       " 'Gerris comatus': 'Gerris comatus',\n",
       " 'Gerris lacustris': 'Gerris lacustris',\n",
       " 'Gerris lateralis': 'Gerris lateralis',\n",
       " 'Gerris odontogaster': 'Gerris odontogaster',\n",
       " 'Gerris remigis': 'Gerris remigis',\n",
       " 'Gymnorhinus cyanocephalus': 'Gymnorhinus cyanocephalus',\n",
       " 'Helix pomatia': 'Helix pomatia',\n",
       " 'Hippocampus guttulatus': 'Hippocampus guttulatus',\n",
       " 'Hippocampus subelongatus': 'Hippocampus subelongatus',\n",
       " 'Hippocampus whitei': 'Hippocampus whitei',\n",
       " 'Hyalella azteca': 'Hyalella azteca',\n",
       " 'Hyalella castroi': 'Hyalella castroi',\n",
       " 'Hyalella pleoacuta': 'Hyalella pleoacuta',\n",
       " 'Hyla arborea': 'Hyla arborea',\n",
       " 'Hyla chrysoscelis': 'Hyla chrysoscelis',\n",
       " 'Hyla cinerea': 'Hyla cinerea',\n",
       " 'Hyla crucifer': 'Hyla crucifer',\n",
       " 'Hyla elegans': 'Hyla elegans',\n",
       " 'Hyla marmorata': 'Hyla marmorata',\n",
       " 'Hyla versicolor': 'Hyla versicolor',\n",
       " 'Hyperolius marmoratus': 'Hyperolius marmoratus',\n",
       " 'Idotea balthica': 'Idotea balthica',\n",
       " 'Inachus phalangium': 'Inachus phalangium',\n",
       " 'Ips pini': 'Ips pini',\n",
       " 'Jaera albifrons': 'Jaera albifrons',\n",
       " 'Jaera ischiosetosa': 'Jaera ischiosetosa',\n",
       " 'Jaera istri': 'Jaera istri',\n",
       " 'Jaera italica': 'Jaera italica',\n",
       " 'Jaera nordmanni': 'Jaera nordmanni',\n",
       " 'Jesogammarus suwaensis': 'Jesogammarus suwaensis',\n",
       " 'Julidochromis ornatus': 'Julidochromis ornatus',\n",
       " 'Lacerta agilis': 'Lacerta agilis',\n",
       " 'Lacerta vivipara': 'Lacerta vivipara',\n",
       " 'Lanius collurio': 'Lanius collurio',\n",
       " 'Limnadia badia': 'Limnadia badia',\n",
       " 'Limosa limosa islandica': 'Limosa limosa islandica',\n",
       " 'Limulus polyphemus': 'Limulus polyphemus',\n",
       " 'Littoraria flava': 'Littoraria flava',\n",
       " 'Littorina littorea': 'Littorina littorea',\n",
       " 'Littorina neglecta': 'Littorina neglecta',\n",
       " 'Locustella ochotensis': 'Locustella ochotensis',\n",
       " 'Loxia curvirostra': 'Loxia curvirostra',\n",
       " 'Lytta magister': 'Lytta magister',\n",
       " 'Lytta vulnerata': 'Lytta vulnerata',\n",
       " 'Magicicada cassini': 'Magicicada cassini',\n",
       " 'Magicicada septendecim': 'Magicicada septendecim',\n",
       " 'Merops apiaster': 'Merops apiaster',\n",
       " 'Mycteria leucocephala': 'Mycteria leucocephala',\n",
       " 'Neacoryphus bicrucis': 'Neacoryphus bicrucis',\n",
       " 'Necrophila americana': 'Necrophila americana',\n",
       " 'Nodilittorina radiata': 'Nodilittorina radiata',\n",
       " 'Ololygon rubra': 'Ololygon rubra',\n",
       " 'Oncorhynchus gorbuscha': 'Oncorhynchus gorbuscha',\n",
       " 'Onymacris bicolor': 'Onymacris bicolor',\n",
       " 'Pachycheles rudis': 'Pachycheles rudis',\n",
       " 'Paguritta harmsi': 'Paguritta harmsi',\n",
       " 'Paracalliope fluviatilis': 'Paracalliope fluviatilis',\n",
       " 'Paramecium caudatum': 'Paramecium caudatum',\n",
       " 'Passer domesticus': 'Passer domesticus',\n",
       " 'Pelobates cultripes': 'Pelobates cultripes',\n",
       " 'Phanaeus difformis': 'Phanaeus difformis',\n",
       " 'Phascolarctos cinereus': 'Phascolarctos cinereus',\n",
       " 'Phidippus clarus': 'Phidippus clarus',\n",
       " 'Phyllobius maculicornis': 'Phyllobius maculicornis',\n",
       " 'Phyllomedusa rohdei': 'Phyllomedusa rohdei',\n",
       " 'Phymata americana': 'Phymata americana',\n",
       " 'Phymata fasciata': 'Phymata fasciata',\n",
       " 'Phymata wolffii': 'Phymata wolffii',\n",
       " 'Physalaemus enesefae': 'Physalaemus enesefae',\n",
       " 'Physalaemus pustulosus': 'Physalaemus pustulosus',\n",
       " 'Plecia nearctica': 'Plecia nearctica',\n",
       " 'Pomatoschistus minutus': 'Pomatoschistus minutus',\n",
       " 'Pontonia mexicana': 'Pontonia mexicana',\n",
       " 'Pterapogon kauderni': 'Pterapogon kauderni',\n",
       " 'Pygoscelis adeliae': 'Pygoscelis adeliae',\n",
       " 'Rana chensinensis': 'Rana chensinensis',\n",
       " 'Rana dalmatina': 'Rana dalmatina',\n",
       " 'Rana sylvatica': 'Rana sylvatica',\n",
       " 'Rana temporaria': 'Rana temporaria',\n",
       " 'Rissa tridactyla': 'Rissa tridactyla',\n",
       " 'Salvelinus confluentus': 'Salvelinus confluentus',\n",
       " 'Salvelinus leucomaenis': 'Salvelinus leucomaenis',\n",
       " 'Scaphiopus bombifrons': 'Scaphiopus bombifrons',\n",
       " 'Scaphiopus couchi': 'Scaphiopus couchi',\n",
       " 'Scaphiopus multiplicatus': 'Scaphiopus multiplicatus',\n",
       " 'Scatophaga stercoraria': 'Scatophaga stercoraria',\n",
       " 'Scinax centralis': 'Scinax centralis',\n",
       " 'Serranus tortugarum': 'Serranus tortugarum',\n",
       " 'Siphonaria capensis': 'Siphonaria capensis',\n",
       " 'Speotyto cunicularia': 'Speotyto cunicularia',\n",
       " 'Spheniscus magellanicus': 'Spheniscus magellanicus',\n",
       " 'Stercorarius parasiticus': 'Stercorarius parasiticus',\n",
       " 'Stercorarius skua lonnbergi': 'Stercorarius skua lonnbergi',\n",
       " 'Sterna hirundo': 'Sterna hirundo',\n",
       " 'Sturnus vulgaris': 'Sturnus vulgaris',\n",
       " 'Tachycineta bicolor': 'Tachycineta bicolor',\n",
       " 'Taricha granulosa': 'Taricha granulosa',\n",
       " 'Tegrodera aloga': 'Tegrodera aloga',\n",
       " 'Tegrodera erosa': 'Tegrodera erosa',\n",
       " 'Tetraopes tetrophthalmus': 'Tetraopes tetrophthalmus',\n",
       " 'Thamnophis sirtalis parietalis': 'Thamnophis sirtalis parietalis',\n",
       " 'Thermosphaeroma thermophilum': 'Thermosphaeroma thermophilum',\n",
       " 'Timarcha maritima': 'Timarcha maritima',\n",
       " 'Trapezia ferruginea': 'Trapezia ferruginea',\n",
       " 'Triprion petasatus': 'Triprion petasatus',\n",
       " 'Trirhabda canadensis': 'Trirhabda canadensis',\n",
       " 'Uca capricornis': 'Uca capricornis',\n",
       " 'Uca pugilator': 'Uca pugilator',\n",
       " 'Uca rapax': 'Uca rapax',\n",
       " 'Uperoleia rugosa': 'Uperoleia rugosa',\n",
       " 'Valenciennea muralis': 'Valenciennea muralis',\n",
       " 'Valenciennea strigata ': 'Valenciennea strigata ',\n",
       " 'Zebrasoma scopas': 'Zebrasoma scopas'}"
      ]
     },
     "execution_count": 48,
     "metadata": {},
     "output_type": "execute_result"
    }
   ],
   "source": [
    "makeBirdDict(\"week6_hw_files/Jiang2013_data.csv\")"
   ]
  },
  {
   "cell_type": "code",
   "execution_count": null,
   "metadata": {
    "collapsed": true
   },
   "outputs": [],
   "source": []
  }
 ],
 "metadata": {
  "anaconda-cloud": {},
  "kernelspec": {
   "display_name": "Python [default]",
   "language": "python",
   "name": "python3"
  },
  "language_info": {
   "codemirror_mode": {
    "name": "ipython",
    "version": 3
   },
   "file_extension": ".py",
   "mimetype": "text/x-python",
   "name": "python",
   "nbconvert_exporter": "python",
   "pygments_lexer": "ipython3",
   "version": "3.5.2"
  }
 },
 "nbformat": 4,
 "nbformat_minor": 2
}
