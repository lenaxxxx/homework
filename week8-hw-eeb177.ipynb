{
 "cells": [
  {
   "cell_type": "markdown",
   "metadata": {},
   "source": [
    "## Homework: generate data (2 pieces of data) about the fish\n",
    "\n",
    "### My favorite fish\n",
    "in order to find the feeding: curl -s 'link' | grep Feeds | cut -d \";\" -f 1\n",
    "\n",
    "in order to find max length: curl -s 'link' | grep 'Max length' | cut -d \";\" -f 1\n",
    "\n",
    "\n",
    "*Salvelinus colii*\n",
    "http://www.fishbase.org/summary/49332\n",
    "\n",
    "   **Feeding**: Feeds on benthic and planktonic invertebrates.\n",
    "   \n",
    "   **Max length**: 30.0 cm SL male/unsexed\n",
    "    \n",
    "    \n",
    "*Trygonoptera testacea*\n",
    "http://www.fishbase.org/summary/15439\n",
    "\n",
    "   **Feeding**: Feeds on worms, crustaceans, bony fishes, and other stingarees\n",
    "\n",
    "   **Max length**:47.0 cm TL male/unsexed\n",
    "\n",
    "\n",
    "*Erimyzon succetta*\n",
    "http://www.fishbase.org/summary/2987\n",
    "\n",
    "   **Feeding**: Feeds on microcrustacea and midge larvae\n",
    "\n",
    "   **Max length**: 41.0 cm TL male/unsexed\n",
    "\n",
    "\n",
    "*Parabembras robinsoni*\n",
    "http://www.fishbase.org/summary/10114\n",
    "\n",
    "   **Feeding**: no feeding information\n",
    "\n",
    "   **Max length**: 24.0 cm TL male/unsexed\n"
   ]
  },
  {
   "cell_type": "code",
   "execution_count": null,
   "metadata": {
    "collapsed": true
   },
   "outputs": [],
   "source": []
  }
 ],
 "metadata": {
  "anaconda-cloud": {},
  "kernelspec": {
   "display_name": "Python [default]",
   "language": "python",
   "name": "python3"
  },
  "language_info": {
   "codemirror_mode": {
    "name": "ipython",
    "version": 3
   },
   "file_extension": ".py",
   "mimetype": "text/x-python",
   "name": "python",
   "nbconvert_exporter": "python",
   "pygments_lexer": "ipython3",
   "version": "3.5.2"
  }
 },
 "nbformat": 4,
 "nbformat_minor": 2
}
